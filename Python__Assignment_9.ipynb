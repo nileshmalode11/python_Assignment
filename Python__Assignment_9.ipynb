{
  "nbformat": 4,
  "nbformat_minor": 0,
  "metadata": {
    "colab": {
      "provenance": [],
      "authorship_tag": "ABX9TyNYLivMp5dEko1iwJ/1TKJR",
      "include_colab_link": true
    },
    "kernelspec": {
      "name": "python3",
      "display_name": "Python 3"
    },
    "language_info": {
      "name": "python"
    }
  },
  "cells": [
    {
      "cell_type": "markdown",
      "metadata": {
        "id": "view-in-github",
        "colab_type": "text"
      },
      "source": [
        "<a href=\"https://colab.research.google.com/github/nileshmalode11/python_Assignment/blob/main/Python__Assignment_9.ipynb\" target=\"_parent\"><img src=\"https://colab.research.google.com/assets/colab-badge.svg\" alt=\"Open In Colab\"/></a>"
      ]
    },
    {
      "cell_type": "markdown",
      "source": [
        "**Problem** **1**\n",
        "\n",
        "Another measure of average\n",
        "\n",
        "Mode is defined as the value that appears most often in a set of data values. Mode corresponds to the most frequent value.\n",
        "\n",
        "You are given a list of numbers and you need to calculate the mode of this list\n",
        "\n",
        "**Solution**"
      ],
      "metadata": {
        "id": "kKJiwglalk-G"
      }
    },
    {
      "cell_type": "code",
      "execution_count": 2,
      "metadata": {
        "id": "YGNzbtoUljwt"
      },
      "outputs": [],
      "source": [
        "# A list containing average daily temperature over 10 days\n",
        "temperatures = [34, 40, 29, 33, 42, 40, 39, 34, 34,33 ]"
      ]
    },
    {
      "cell_type": "code",
      "source": [
        "#Step 1 : Find the unique set of values. Store this in a list\n",
        "unique_temperatures =set(temperatures)\n",
        " \n",
        "print(unique_temperatures)"
      ],
      "metadata": {
        "colab": {
          "base_uri": "https://localhost:8080/"
        },
        "id": "0JuC1Znrl9xw",
        "outputId": "aed21787-48bc-4349-9508-69d7ed310e16"
      },
      "execution_count": 3,
      "outputs": [
        {
          "output_type": "stream",
          "name": "stdout",
          "text": [
            "{33, 34, 39, 40, 42, 29}\n"
          ]
        }
      ]
    },
    {
      "cell_type": "code",
      "source": [
        "# Step 2 : Create an empty dictionary which will contain the unique temperatures as keys and their counts in the original temperatures list as values\n",
        "temp_dict = {}\n",
        "\n",
        "# Set the values for each key separately\n",
        "# First key\n",
        "first=temperatures.count(33)\n",
        "temp_dict[33]=first\n",
        "\n",
        "\n",
        "# Second key\n",
        "second=temperatures.count(34)\n",
        "temp_dict[34]=second\n",
        "\n",
        "\n",
        "# Third key\n",
        "third=temperatures.count(39)\n",
        "temp_dict[39]=third\n",
        "\n",
        "\n",
        "# Fourth key\n",
        "fourth=temperatures.count(40)\n",
        "temp_dict[40]=fourth\n",
        "\n",
        "\n",
        "# Fifth key\n",
        "fifth=temperatures.count(42)\n",
        "temp_dict[42]=fifth\n",
        "\n",
        "\n",
        "# Sixth key\n",
        "sixth=temperatures.count(29)\n",
        "temp_dict[29]=sixth\n",
        "\n",
        "print(temp_dict)"
      ],
      "metadata": {
        "colab": {
          "base_uri": "https://localhost:8080/"
        },
        "id": "yZxNFqAemHLY",
        "outputId": "64f7319c-8a66-45a5-9a30-b89595a1789d"
      },
      "execution_count": 4,
      "outputs": [
        {
          "output_type": "stream",
          "name": "stdout",
          "text": [
            "{33: 2, 34: 3, 39: 1, 40: 2, 42: 1, 29: 1}\n"
          ]
        }
      ]
    },
    {
      "cell_type": "code",
      "source": [
        "# Step 3: Store the dictionary values in a list\n",
        "temp_dict_frequencies = list(temp_dict.values())\n",
        "\n",
        "# Print the list of dictionary values\n",
        "print(temp_dict_frequencies)\n",
        "\n",
        "# Find the index of the most frequent temperature value\n",
        "most_frequent_temp_index =  max(set(temperatures), key = temperatures.count)\n",
        "\n",
        "# Print the index\n",
        "index = temperatures.index(most_frequent_temp_index)\n",
        "print(index)"
      ],
      "metadata": {
        "colab": {
          "base_uri": "https://localhost:8080/"
        },
        "id": "a_Wr6-nMmMTh",
        "outputId": "ad507033-3680-48b2-eed2-ed01501b7260"
      },
      "execution_count": 10,
      "outputs": [
        {
          "output_type": "stream",
          "name": "stdout",
          "text": [
            "[2, 3, 1, 2, 1, 1]\n",
            "0\n"
          ]
        }
      ]
    },
    {
      "cell_type": "code",
      "source": [
        "# Step 4 : Create the list of dictionary keys\n",
        "temp_dict_keys = list(temp_dict.keys())\n",
        "\n",
        "# Print the list of dictionary keys\n",
        "print(temp_dict_keys)\n",
        "\n",
        "# Calculate the mode temperature\n",
        "import statistics\n",
        "\n",
        "mode_temp = statistics.mode(temperatures)\n",
        "\n",
        "print(mode_temp)"
      ],
      "metadata": {
        "colab": {
          "base_uri": "https://localhost:8080/"
        },
        "id": "b05tTsXrmQaE",
        "outputId": "44cde773-bbff-42ad-c503-58bd10559fef"
      },
      "execution_count": 9,
      "outputs": [
        {
          "output_type": "stream",
          "name": "stdout",
          "text": [
            "[33, 34, 39, 40, 42, 29]\n",
            "34\n"
          ]
        }
      ]
    },
    {
      "cell_type": "markdown",
      "source": [
        "**Problem** **2**\n",
        "\n",
        "Challenging the immutability of tuples\n",
        "\n",
        "You are given a list of tuples. You need to replace the last element of the last tuple\n",
        "\n",
        "**Solution**"
      ],
      "metadata": {
        "id": "FcFqP71eQ257"
      }
    },
    {
      "cell_type": "code",
      "source": [
        "# Input list of tuples\n",
        "\n",
        "list_of_tuples = [(10,20,30),(30,40,50),(50,60,70)]\n",
        "\n",
        "\n",
        "# Expected output : Replace the last element 70 with 100\n",
        "# output_list = [(10,20,30),(30,40,50),(50,60,100)]\n",
        "\n",
        "x =list(list_of_tuples[2])\n",
        "x[2] = 100\n",
        "y = tuple(x)\n",
        "\n",
        "list_of_tuples[2] = y\n",
        "#output list\n",
        "print(list_of_tuples)"
      ],
      "metadata": {
        "colab": {
          "base_uri": "https://localhost:8080/"
        },
        "id": "daMCjJvbQ2jI",
        "outputId": "f0b6d2c7-7223-4be5-d631-d16a518497c5"
      },
      "execution_count": 19,
      "outputs": [
        {
          "output_type": "stream",
          "name": "stdout",
          "text": [
            "[(10, 20, 30), (30, 40, 50), (50, 60, 100)]\n"
          ]
        }
      ]
    },
    {
      "cell_type": "markdown",
      "source": [
        "**Problem** **3**\n",
        "\n",
        "Natural Language Processing or NLP is one of the most promising fields in Machine Learning. Most of the times in NLP we deal with the textual data (a bunch of strings). \n",
        "\n",
        "Sometimes when we are processing the text, it is a common practice to get rid of some set of stop words from our original text. By default stop words are very common words used in English language such as and, or, punctuations etc.\n",
        "\n",
        "In this exercise, you are provided with a default set of stop words and you need to add some extra set of custom words."
      ],
      "metadata": {
        "id": "ioS77KWHVfih"
      }
    },
    {
      "cell_type": "code",
      "source": [
        "# A sample sentence \n",
        "\n",
        "sentence = 'Hello, good morning folks! Today we will announce the half yearly performance results of the company. Due to the ongoing COVID-19 pandemic, our profits have declined by 60% as compared to the last year'\n",
        "\n",
        "# Print your sentence\n",
        "sentence"
      ],
      "metadata": {
        "colab": {
          "base_uri": "https://localhost:8080/",
          "height": 54
        },
        "id": "GUhdwOdsVmNE",
        "outputId": "50e2b16e-cc20-4d42-fa86-28a651f4dce7"
      },
      "execution_count": 20,
      "outputs": [
        {
          "output_type": "execute_result",
          "data": {
            "text/plain": [
              "'Hello, good morning folks! Today we will announce the half yearly performance results of the company. Due to the ongoing COVID-19 pandemic, our profits have declined by 60% as compared to the last year'"
            ],
            "application/vnd.google.colaboratory.intrinsic+json": {
              "type": "string"
            }
          },
          "metadata": {},
          "execution_count": 20
        }
      ]
    },
    {
      "cell_type": "code",
      "source": [
        "#Default set of stop words \n",
        "stop_words = {\"i\", \"me\", \"my\", \"myself\", \"we\", \"our\", \"ours\", \"ourselves\", \"you\", \"your\", \"yours\", \"yourself\", \n",
        "              \"yourselves\", \"he\", \"him\", \"his\", \"himself\", \"she\", \"her\", \"hers\", \"herself\", \"it\", \"its\", \"itself\",\n",
        "              \"they\", \"them\", \"their\", \"theirs\", \"themselves\", \"what\", \"which\", \"who\", \"whom\", \"this\", \"that\",\n",
        "              \"these\", \"those\", \"am\", \"is\", \"are\", \"was\", \"were\", \"be\", \"been\", \"being\", \"have\", \"has\", \"had\",\n",
        "              \"having\", \"do\", \"does\", \"did\", \"doing\", \"a\", \"an\", \"the\", \"and\", \"but\", \"if\", \"or\", \"because\",\n",
        "              \"as\", \"until\", \"while\", \"of\", \"at\", \"by\", \"for\", \"with\", \"about\", \"against\", \"between\", \"into\",\n",
        "              \"through\", \"during\", \"before\", \"after\", \"above\", \"below\", \"to\", \"from\", \"up\", \"down\", \"in\", \"out\", \n",
        "              \"on\", \"off\", \"over\", \"under\", \"again\", \"further\", \"then\", \"once\", \"here\", \"there\", \"when\", \"where\",\n",
        "              \"why\", \"how\", \"all\", \"any\", \"both\", \"each\", \"few\", \"more\", \"most\", \"other\", \"some\", \"such\", \"no\",\n",
        "              \"nor\", \"not\", \"only\", \"own\", \"same\", \"so\", \"than\", \"too\", \"very\", \"s\", \"t\", \"can\", \"will\", \"just\",\n",
        "              \"don\", \"should\", \"now\"}"
      ],
      "metadata": {
        "id": "YWuZW59QV4iy"
      },
      "execution_count": 21,
      "outputs": []
    },
    {
      "cell_type": "code",
      "source": [
        "# Update the set of stop words by adding the custom stop words\n",
        "custom_stop_words = [\"hello\",\"good\",\"morning\",\"half\",\"yearly\"]\n",
        "\n",
        "stop_words.update(custom_stop_words)\n",
        "\n",
        "print(stop_words)\n",
        "\n",
        "# Your code here\n",
        "a = list(stop_words)\n",
        "\n",
        "# Print the stop words in a sorted manner\n",
        "print(sorted(a))"
      ],
      "metadata": {
        "colab": {
          "base_uri": "https://localhost:8080/"
        },
        "id": "AxCFBAT4WC62",
        "outputId": "254a6888-d38d-43c3-ed1b-bdaf8bc5ffa9"
      },
      "execution_count": 22,
      "outputs": [
        {
          "output_type": "stream",
          "name": "stdout",
          "text": [
            "{'yearly', 'and', 'nor', 'some', 'her', 'me', 'them', 'him', 'yourselves', 'should', 'who', 'against', 'themselves', 'was', 'so', 'doing', 'same', 'there', 'don', 'once', 'had', 'ours', 'their', 'which', 'am', 'than', 'were', 'here', 'to', 'morning', 'both', 'up', 'he', 'half', 'below', 'over', 'just', 'own', 'will', 'your', 'how', 'do', 'itself', 'each', 'or', 'its', 'hers', 'whom', 'has', 'where', 'before', 'in', 'theirs', 'being', 'the', 'between', 'my', 'himself', 'as', 'until', 'only', 'these', 'hello', 'it', 'myself', 'too', 'ourselves', 'why', 'after', 'his', 'are', 'this', 'about', 'no', 'i', 'an', 'we', 'is', 'then', 'you', 'a', 'not', 'good', 'at', 'but', 'on', 'our', 'have', 'above', 'very', 'off', 'most', 'yours', 'into', 'herself', 'again', 's', 'been', 'be', 'more', 'down', 'now', 'during', 'for', 'further', 'because', 'when', 'if', 'few', 'of', 'can', 'that', 'yourself', 'any', 'does', 'did', 'having', 'all', 'she', 'under', 'they', 'through', 'other', 'while', 'with', 'those', 't', 'such', 'out', 'from', 'by', 'what'}\n",
            "['a', 'about', 'above', 'after', 'again', 'against', 'all', 'am', 'an', 'and', 'any', 'are', 'as', 'at', 'be', 'because', 'been', 'before', 'being', 'below', 'between', 'both', 'but', 'by', 'can', 'did', 'do', 'does', 'doing', 'don', 'down', 'during', 'each', 'few', 'for', 'from', 'further', 'good', 'had', 'half', 'has', 'have', 'having', 'he', 'hello', 'her', 'here', 'hers', 'herself', 'him', 'himself', 'his', 'how', 'i', 'if', 'in', 'into', 'is', 'it', 'its', 'itself', 'just', 'me', 'more', 'morning', 'most', 'my', 'myself', 'no', 'nor', 'not', 'now', 'of', 'off', 'on', 'once', 'only', 'or', 'other', 'our', 'ours', 'ourselves', 'out', 'over', 'own', 's', 'same', 'she', 'should', 'so', 'some', 'such', 't', 'than', 'that', 'the', 'their', 'theirs', 'them', 'themselves', 'then', 'there', 'these', 'they', 'this', 'those', 'through', 'to', 'too', 'under', 'until', 'up', 'very', 'was', 'we', 'were', 'what', 'when', 'where', 'which', 'while', 'who', 'whom', 'why', 'will', 'with', 'yearly', 'you', 'your', 'yours', 'yourself', 'yourselves']\n"
          ]
        }
      ]
    },
    {
      "cell_type": "markdown",
      "source": [
        "**Problem** **4**\n",
        "\n",
        "Write a Python script to check whether a given key already exists in a dictionary. If it does, drop that key from the dictionary. If it does not, add that key and corresponding value to the dictionary\n",
        "\n",
        "**Solution**"
      ],
      "metadata": {
        "id": "h22sG4JgXdnM"
      }
    },
    {
      "cell_type": "code",
      "source": [
        "# Your dictionary\n",
        "employee_dict = {'Name':'Sanket','Skills':['Python','Machine Learning','Deep Learning'],'Band':6.0,\n",
        "                 'Promotion Year':[2016,2018,2020]}"
      ],
      "metadata": {
        "id": "mnSr8NH-XhT1"
      },
      "execution_count": 23,
      "outputs": []
    },
    {
      "cell_type": "code",
      "source": [
        "# Check if the key 'Employee_ID' is present in the dictionary. Hint : use a boolean variable to store this value\n",
        "# If not present add this key to this dictionary and the corresponding value to be 4503233\n",
        "\n",
        "def is_key_present(x):\n",
        "  if x in employee_dict:\n",
        "      employee_dict.pop(x)\n",
        "  else:\n",
        "     employee_dict['Employee_ID'] = 4503233\n",
        "\n",
        "is_key_present('Employee_ID')\n",
        "\n",
        "# Check if the key 'Band' is present in the dictionary.\n",
        "is_key_present('Band')\n",
        "\n",
        "# If present, drop this key from the dictionary\n",
        "print(employee_dict)"
      ],
      "metadata": {
        "colab": {
          "base_uri": "https://localhost:8080/"
        },
        "id": "w27HGxM0YMqI",
        "outputId": "a2686791-07f9-47af-c9d7-e9b4e34fcf58"
      },
      "execution_count": 31,
      "outputs": [
        {
          "output_type": "stream",
          "name": "stdout",
          "text": [
            "{'Name': 'Sanket', 'Skills': ['Python', 'Machine Learning', 'Deep Learning'], 'Promotion Year': [2016, 2018, 2020], 'Employee_ID': 4503233}\n"
          ]
        }
      ]
    }
  ]
}