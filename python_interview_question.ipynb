{
  "nbformat": 4,
  "nbformat_minor": 0,
  "metadata": {
    "colab": {
      "provenance": [],
      "authorship_tag": "ABX9TyMdrK1v7I9vMWFJ0OWpsLvc",
      "include_colab_link": true
    },
    "kernelspec": {
      "name": "python3",
      "display_name": "Python 3"
    },
    "language_info": {
      "name": "python"
    }
  },
  "cells": [
    {
      "cell_type": "markdown",
      "metadata": {
        "id": "view-in-github",
        "colab_type": "text"
      },
      "source": [
        "<a href=\"https://colab.research.google.com/github/nileshmalode11/python_Assignment/blob/main/python_interview_question.ipynb\" target=\"_parent\"><img src=\"https://colab.research.google.com/assets/colab-badge.svg\" alt=\"Open In Colab\"/></a>"
      ]
    },
    {
      "cell_type": "code",
      "execution_count": null,
      "metadata": {
        "colab": {
          "base_uri": "https://localhost:8080/"
        },
        "id": "xDeW_6AIHoEG",
        "outputId": "a1083dc0-8894-42da-a6ca-4b074256aaef"
      },
      "outputs": [
        {
          "output_type": "stream",
          "name": "stdout",
          "text": [
            "Fizz\n",
            "Buzz\n",
            "Fizz\n",
            "Fizz\n",
            "Buzz\n",
            "Fizz\n",
            "FzzBuzz\n",
            "Fizz\n",
            "Buzz\n",
            "Fizz\n",
            "Fizz\n",
            "Buzz\n",
            "Fizz\n",
            "FzzBuzz\n",
            "Fizz\n",
            "Buzz\n",
            "Fizz\n",
            "Fizz\n",
            "Buzz\n",
            "Fizz\n",
            "FzzBuzz\n",
            "Fizz\n",
            "Buzz\n"
          ]
        }
      ],
      "source": [
        "''' Write a Python program which iterates the integers from 1 to 50.\n",
        "  For multiples of three print \"Fizz\" instead of the number and for the multiples of five print \"Buzz\".\n",
        "  For numbers which are multiples of both three and five print \"FizzBuzz.'''\n",
        "for i in range(1,51):\n",
        "  if i%3==0 and i%5==0:\n",
        "      print(\"FzzBuzz\")\n",
        "  elif i%5==0:\n",
        "    print(\"Buzz\")\n",
        "  elif i%3==0:\n",
        "    print(\"Fizz\") \n",
        "        \n",
        "\n"
      ]
    },
    {
      "cell_type": "code",
      "source": [
        "l1=list(range(1,11))\n",
        "for i in l1:\n",
        "  if i%2==0:\n",
        "    print(i)  "
      ],
      "metadata": {
        "colab": {
          "base_uri": "https://localhost:8080/"
        },
        "id": "5RQFUnV9KCdP",
        "outputId": "d4343df2-8553-43d5-bfd6-35aa5f6858f3"
      },
      "execution_count": null,
      "outputs": [
        {
          "output_type": "stream",
          "name": "stdout",
          "text": [
            "2\n",
            "4\n",
            "6\n",
            "8\n",
            "10\n"
          ]
        },
        {
          "output_type": "execute_result",
          "data": {
            "text/plain": [
              "[1, 2, 3, 4, 5, 6, 7, 8, 9, 10]"
            ]
          },
          "metadata": {},
          "execution_count": 14
        }
      ]
    },
    {
      "cell_type": "code",
      "source": [
        "#Armstrong number\n",
        "n=int(input())\n",
        "count=0\n",
        "while n!=0:\n",
        "  x=n%10\n",
        "  count=count+(n*x)\n",
        "  n=n//10\n",
        "print(count)  \n"
      ],
      "metadata": {
        "colab": {
          "base_uri": "https://localhost:8080/"
        },
        "id": "C_wEhVt7HQ54",
        "outputId": "c30ebd99-b60f-47bb-9346-adb22fa1897b"
      },
      "execution_count": null,
      "outputs": [
        {
          "output_type": "stream",
          "name": "stdout",
          "text": [
            "153\n",
            "535\n"
          ]
        }
      ]
    }
  ]
}