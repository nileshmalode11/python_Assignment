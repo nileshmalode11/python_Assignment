{
  "nbformat": 4,
  "nbformat_minor": 0,
  "metadata": {
    "colab": {
      "provenance": [],
      "authorship_tag": "ABX9TyOXoqmsYocw2ZQqrlHJPqWd",
      "include_colab_link": true
    },
    "kernelspec": {
      "name": "python3",
      "display_name": "Python 3"
    },
    "language_info": {
      "name": "python"
    }
  },
  "cells": [
    {
      "cell_type": "markdown",
      "metadata": {
        "id": "view-in-github",
        "colab_type": "text"
      },
      "source": [
        "<a href=\"https://colab.research.google.com/github/nileshmalode11/python_Assignment/blob/main/python_basic_Assignment_6.ipynb\" target=\"_parent\"><img src=\"https://colab.research.google.com/assets/colab-badge.svg\" alt=\"Open In Colab\"/></a>"
      ]
    },
    {
      "cell_type": "markdown",
      "source": [
        "**Problem** **1**\n",
        "\n",
        "A list contains the average daily temperature(in degree Celsius) of a city over a particular week. Write a Python code to swap the highest and the lowest temperatures"
      ],
      "metadata": {
        "id": "SwAjLtwoF5xg"
      }
    },
    {
      "cell_type": "markdown",
      "source": [
        "**Solution**"
      ],
      "metadata": {
        "id": "8_LyAXB2PJ4t"
      }
    },
    {
      "cell_type": "code",
      "source": [
        "# A list containing average daily temperature over a week \n",
        "temperatures = [34, 40, 29, 33, 42, 37, 39 ]\n",
        "\n",
        "# Store the highest temperature\n",
        "max_temp = max(temperatures)\n",
        "print(\"highest temperature in week:\",max_temp)\n",
        "\n",
        "# Index of the element with the highest temperature\n",
        "max_temp_index = temperatures.index(max_temp)\n",
        "print(\"Index of the element with the highest temperature:\",max_temp_index)"
      ],
      "metadata": {
        "id": "BbKtJssKF_Ri"
      },
      "execution_count": null,
      "outputs": []
    },
    {
      "cell_type": "code",
      "source": [
        "# Store the lowest temperature \n",
        "min_temp =min(temperatures) \n",
        "print(\"lowest temperature in week:\",min_temp)\n",
        "\n",
        "# Index of the element with the lowest temperature\n",
        "min_temp_index =temperatures.index(min_temp)\n",
        "print(\"Index of the element with the lowest temperature:\",min_temp_index)"
      ],
      "metadata": {
        "id": "b_tpcPnjJqDG"
      },
      "execution_count": null,
      "outputs": []
    },
    {
      "cell_type": "code",
      "source": [
        "# Swap the highest and the lowest temperatures\n",
        "temperatures[4]=min_temp\n",
        "\n",
        "temperatures[2]=max_temp\n"
      ],
      "metadata": {
        "id": "7XOTgyb9MNGQ"
      },
      "execution_count": null,
      "outputs": []
    },
    {
      "cell_type": "code",
      "source": [
        "print(temperatures)"
      ],
      "metadata": {
        "id": "zom_UYUtNIZ-"
      },
      "execution_count": null,
      "outputs": []
    },
    {
      "cell_type": "markdown",
      "source": [
        "**Problem** **2**\n",
        "\n",
        "Measures of Averages\n",
        "Mean of a group is defined as the sum of the elements in the group divided by the number of elements in the group.\n",
        "\n",
        "Median is the middle number in a sorted, ascending or descending, list of numbers. If the list has  numbers where  is odd, then median is the element in the middle i.e, \n",
        " element. If  is even, then median is the mean of and elements"
      ],
      "metadata": {
        "id": "s39G9JD9PfDk"
      }
    },
    {
      "cell_type": "markdown",
      "source": [
        "**solution**"
      ],
      "metadata": {
        "id": "n7KyKmkRDcjd"
      }
    },
    {
      "cell_type": "code",
      "source": [
        "# List of product prices\n",
        "\n",
        "prod_price_list = [400, 250, 800, 550, 600, 820, 720, 15000, 360,250]\n",
        "\n",
        "# Calculate the mean of the product prices. Use list functions. Also print the mean_price\n",
        "def average(prod_price_list):\n",
        "  return sum(prod_price_list) / len(prod_price_list)\n",
        "\n",
        "mean_price= average(prod_price_list) \n",
        "print(mean_price)"
      ],
      "metadata": {
        "colab": {
          "base_uri": "https://localhost:8080/"
        },
        "id": "lYLU9nM5P335",
        "outputId": "dffb26cf-d09b-4f49-d506-f685a1d7baed"
      },
      "execution_count": null,
      "outputs": [
        {
          "output_type": "stream",
          "name": "stdout",
          "text": [
            "1975.0\n"
          ]
        }
      ]
    },
    {
      "cell_type": "code",
      "source": [
        "def median(prod_price_list):\n",
        "  # Step 1 - Obtain the sorted list. Print the sorted_prices\n",
        "  sorted_prices =prod_price_list.sort()\n",
        "  \n",
        "  n=len(prod_price_list)\n",
        "  m=n//2\n",
        "  if n%2==0:\n",
        "    return (prod_price_list[m-1]+prod_price_list[m])/2\n",
        "  else:\n",
        "    return prod_price_list[m]  \n",
        "median_price =median(prod_price_list)\n",
        "print(median_price)"
      ],
      "metadata": {
        "colab": {
          "base_uri": "https://localhost:8080/"
        },
        "id": "TnY0UMn8TA-Q",
        "outputId": "9c730cd1-9256-4084-a4f8-cc4663984c36"
      },
      "execution_count": null,
      "outputs": [
        {
          "output_type": "stream",
          "name": "stdout",
          "text": [
            "575.0\n"
          ]
        }
      ]
    },
    {
      "cell_type": "code",
      "source": [
        "if mean_price > median_price:\n",
        "  print(\"mean price is greter\")\n",
        "else:\n",
        "  print(\"median is grater\")  "
      ],
      "metadata": {
        "colab": {
          "base_uri": "https://localhost:8080/"
        },
        "id": "RMPnjrGkc3Xw",
        "outputId": "7a888da6-22e3-4a23-a674-bf1fa5ac0063"
      },
      "execution_count": null,
      "outputs": [
        {
          "output_type": "stream",
          "name": "stdout",
          "text": [
            "mean price is greter\n"
          ]
        }
      ]
    },
    {
      "cell_type": "markdown",
      "source": [
        "**Problem** **3**\n",
        "\n",
        "Having a nested list sometimes might be a bit problematic. An individual was asked to collect the names of companies in the technology sector. While creating the list, by mistake the last three companies were subsumed in a list as shown below. You are required to get rid of the nesting"
      ],
      "metadata": {
        "id": "6o1355pKsG8q"
      }
    },
    {
      "cell_type": "markdown",
      "source": [
        "**solution**"
      ],
      "metadata": {
        "id": "uUO2hnkIDhL7"
      }
    },
    {
      "cell_type": "code",
      "source": [
        "# The list of tech companies curated by the individual\n",
        "tech_companies = ['Qualcomm','Google','Apple',['Nvidia','Cisco','Samsung']]\n",
        "\n",
        "# The final list that we want\n",
        "# correct_tech_companies = ['Qualcomm','Google','Apple','Nvidia','Cisco','Samsung']\n",
        "\n",
        "correct_tech_companies=[]\n",
        "\n",
        "x=tech_companies.pop()\n",
        "\n",
        "for item in tech_companies:\n",
        "  correct_tech_companies.append(item)\n",
        "\n",
        "for item in x:\n",
        "  correct_tech_companies.append(item)\n",
        "\n",
        "print(correct_tech_companies)"
      ],
      "metadata": {
        "colab": {
          "base_uri": "https://localhost:8080/"
        },
        "id": "FLqtiwHSsPlH",
        "outputId": "d7458fe2-9b2a-4fd4-a346-638d47dc089a"
      },
      "execution_count": null,
      "outputs": [
        {
          "output_type": "stream",
          "name": "stdout",
          "text": [
            "['Qualcomm', 'Google', 'Apple', 'Nvidia', 'Cisco', 'Samsung']\n"
          ]
        }
      ]
    },
    {
      "cell_type": "code",
      "source": [
        "tech_companies = ['Qualcomm','Google','Apple',['Nvidia','Cisco','Samsung']]\n",
        "\n",
        "correct_tech_companies=[]\n",
        "# function used for removing nested\n",
        "def removenestings(tech_companies):\n",
        "    for i in tech_companies:\n",
        "        if type(i) == list:\n",
        "            removenestings(i)\n",
        "        else:\n",
        "            correct_tech_companies.append(i)\n",
        "    return correct_tech_companies   \n",
        "print(removenestings(tech_companies))            "
      ],
      "metadata": {
        "colab": {
          "base_uri": "https://localhost:8080/"
        },
        "id": "EzBXMRhq_0vd",
        "outputId": "a367963b-fd23-4557-81f7-5822e08ec8c5"
      },
      "execution_count": null,
      "outputs": [
        {
          "output_type": "stream",
          "name": "stdout",
          "text": [
            "['Qualcomm', 'Google', 'Apple', 'Nvidia', 'Cisco', 'Samsung']\n"
          ]
        }
      ]
    }
  ]
}