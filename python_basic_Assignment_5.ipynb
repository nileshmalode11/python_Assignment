{
  "nbformat": 4,
  "nbformat_minor": 0,
  "metadata": {
    "colab": {
      "provenance": [],
      "authorship_tag": "ABX9TyNFxkTmdcgZpGSSUyko96GY",
      "include_colab_link": true
    },
    "kernelspec": {
      "name": "python3",
      "display_name": "Python 3"
    },
    "language_info": {
      "name": "python"
    }
  },
  "cells": [
    {
      "cell_type": "markdown",
      "metadata": {
        "id": "view-in-github",
        "colab_type": "text"
      },
      "source": [
        "<a href=\"https://colab.research.google.com/github/nileshmalode11/python_Assignment/blob/main/python_basic_Assignment_5.ipynb\" target=\"_parent\"><img src=\"https://colab.research.google.com/assets/colab-badge.svg\" alt=\"Open In Colab\"/></a>"
      ]
    },
    {
      "cell_type": "markdown",
      "source": [
        "**Problem 1**\n",
        "\n",
        "You are given a sentence which reads \"Wikipedia is a free online encyclopedia, created and edited by volunteers around the world and hosted by the Wikimedia Foundation.\"\n",
        "\n",
        "Find the number of words in the given sentence"
      ],
      "metadata": {
        "id": "Pbs5MHrpKloO"
      }
    },
    {
      "cell_type": "code",
      "execution_count": 8,
      "metadata": {
        "colab": {
          "base_uri": "https://localhost:8080/"
        },
        "id": "TCAN3FRyKkBF",
        "outputId": "1fb364c7-808d-4aac-c6b6-fe75080079c0"
      },
      "outputs": [
        {
          "output_type": "stream",
          "name": "stdout",
          "text": [
            "total words in string: 20\n"
          ]
        }
      ],
      "source": [
        "def count_words(string):\n",
        "    # Initializing the count from 1 because we there is no space at the last \n",
        "    count=1\n",
        "    for i in string:\n",
        "    # If we encounter space, increment the count with 1.\n",
        "        if i==\" \":\n",
        "            count+=1\n",
        "      \n",
        "    return count\n",
        " \n",
        "string= \"Wikipedia is a free online encyclopedia, created and edited by volunteers around the world and hosted by the Wikimedia Foundation.\"\n",
        "print(\"total words in string:\",count_words(string))"
      ]
    },
    {
      "cell_type": "markdown",
      "source": [
        "**Problem** **2**\n",
        "\n",
        "Write a Python code which takes a number and returns a corresponding string of hyphens. For example if the number is 3, it will return '---' , if the number is 5 it will return '-----\n",
        "\n",
        "**solution**"
      ],
      "metadata": {
        "id": "TVHBVvY8K9kK"
      }
    },
    {
      "cell_type": "code",
      "source": [
        "# Store the user input in a variable\n",
        "inputted_number = int(input())\n",
        "\n",
        "result=inputted_number*\"-\"\n",
        "\n",
        "print(result)"
      ],
      "metadata": {
        "colab": {
          "base_uri": "https://localhost:8080/"
        },
        "id": "qJazSzJlLBbY",
        "outputId": "d71492ec-d3ca-4b51-bd28-27255dd31fa9"
      },
      "execution_count": 9,
      "outputs": [
        {
          "output_type": "stream",
          "name": "stdout",
          "text": [
            "4\n",
            "----\n"
          ]
        }
      ]
    },
    {
      "cell_type": "markdown",
      "source": [
        "**Problem** **3**\n",
        "\n",
        "A string can be called a safe bridge if it has no gaps in it i.e, no spaces. You are supposed to take an input from the user and print whether the string is a safe bridge or not\n",
        "\n",
        "**solution**"
      ],
      "metadata": {
        "id": "LXdMh8sqLQET"
      }
    },
    {
      "cell_type": "code",
      "source": [
        "# Store the user input in a variable\n",
        "\n",
        "bridge = input()\n",
        " \n",
        "# Return True if the bridge is safe and False if the bridge is not safe\n",
        "is_safe_bridge =bridge.find(\" \")==-1\n",
        "\n",
        "# Fill in the blanks\n",
        "print(f\"It is {is_safe_bridge} that the bridge is a safe bridge\" )"
      ],
      "metadata": {
        "colab": {
          "base_uri": "https://localhost:8080/"
        },
        "id": "cXAxW5rBLJSf",
        "outputId": "fde59b13-9f51-4e3f-942b-5bd2c0a00557"
      },
      "execution_count": 10,
      "outputs": [
        {
          "output_type": "stream",
          "name": "stdout",
          "text": [
            "safe bridge\n",
            "It is False that the bridge is a safe bridge\n"
          ]
        }
      ]
    },
    {
      "cell_type": "markdown",
      "source": [
        "**Problem** **4**\n",
        "\n",
        "Count the number of D's in a string inputted by the user. This will be case insensitive.\n",
        "\n",
        "**Solution**"
      ],
      "metadata": {
        "id": "pAto89MJNjN3"
      }
    },
    {
      "cell_type": "code",
      "source": [
        "# Store the user input in a variable\n",
        "user_string = 'Debris was scattered all over the yard in the densest region of Denmark'\n",
        "\n",
        "# Store the count of letter D in the inputted string. Note this will be a case insensitive search\n",
        "D_counts = user_string.count(\"D\")\n",
        "\n",
        "# Fill in the blanks\n",
        "print(f\"The total occurrence of D in the user_string is {D_counts}\")"
      ],
      "metadata": {
        "colab": {
          "base_uri": "https://localhost:8080/"
        },
        "id": "SOIvKWXwNsAb",
        "outputId": "e4b70a5e-6bfc-4e01-8f3a-f9c4169fe515"
      },
      "execution_count": 11,
      "outputs": [
        {
          "output_type": "stream",
          "name": "stdout",
          "text": [
            "The total occurrence of D in the user_string is 2\n"
          ]
        }
      ]
    },
    {
      "cell_type": "markdown",
      "source": [
        "**Problem** **5**\n",
        "\n",
        "Check whether a given string is a palindrome. A palindrome is a word, number, phrase, or other sequence of characters which reads the same backward as forward, such as madam, racecar\n",
        "\n",
        "**Solution**"
      ],
      "metadata": {
        "id": "WoM4A3SPN3Fu"
      }
    },
    {
      "cell_type": "code",
      "source": [
        "# Store the user input in a variable\n",
        "user_string = input()\n",
        "\n",
        "#function\n",
        "def reverse_string(str):\n",
        "  return str[::]==str[::-1]\n",
        " \n",
        "#Print True if a string is a Palindrome else print false\n",
        "print(reverse_string(user_string))"
      ],
      "metadata": {
        "colab": {
          "base_uri": "https://localhost:8080/"
        },
        "id": "-R2SeRTVN8eM",
        "outputId": "0ea33274-5e07-45ed-df9a-135bb1c55146"
      },
      "execution_count": 12,
      "outputs": [
        {
          "output_type": "stream",
          "name": "stdout",
          "text": [
            "kaka\n",
            "False\n"
          ]
        }
      ]
    }
  ]
}