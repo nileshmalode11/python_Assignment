{
  "nbformat": 4,
  "nbformat_minor": 0,
  "metadata": {
    "colab": {
      "provenance": [],
      "authorship_tag": "ABX9TyM6f3TT82pLA5gHnKPr7rm6",
      "include_colab_link": true
    },
    "kernelspec": {
      "name": "python3",
      "display_name": "Python 3"
    },
    "language_info": {
      "name": "python"
    }
  },
  "cells": [
    {
      "cell_type": "markdown",
      "metadata": {
        "id": "view-in-github",
        "colab_type": "text"
      },
      "source": [
        "<a href=\"https://colab.research.google.com/github/nileshmalode11/python_Assignment/blob/main/python_basic__Assignment_1.ipynb\" target=\"_parent\"><img src=\"https://colab.research.google.com/assets/colab-badge.svg\" alt=\"Open In Colab\"/></a>"
      ]
    },
    {
      "cell_type": "markdown",
      "source": [
        "**Problem 1**\n",
        "\n",
        "In a cricket tournament, based on the outcome of a particular match a team gets following points:\n",
        "\n",
        "wins gets 3 points\n",
        "\n",
        "draws gets 1 points\n",
        "\n",
        "losses gets 0 points\n",
        "\n",
        "Team Aravali plays 8 matches in this tournament. It wins 4 matches, loses 3 matches and draws 1. What is the total number of points gained by the Team Aravali?"
      ],
      "metadata": {
        "id": "gPU_6o1-zMTZ"
      }
    },
    {
      "cell_type": "markdown",
      "source": [
        "##solution"
      ],
      "metadata": {
        "id": "oH26X7zMBIVN"
      }
    },
    {
      "cell_type": "code",
      "source": [
        "\n",
        "wins=4\n",
        "losses=3\n",
        "draw=1\n",
        "\n",
        "#Points gained by aravali team\n",
        "aravali_points=(3*wins)+(0*losses)+(1*draw)\n",
        "\n",
        "#Display aravali points\n",
        "print(\"Team aravali points = \",+aravali_points)\n"
      ],
      "metadata": {
        "colab": {
          "base_uri": "https://localhost:8080/"
        },
        "id": "nj9WAqpbzHf0",
        "outputId": "a013f2a4-7d59-4039-dfbd-9768f1a29c72"
      },
      "execution_count": null,
      "outputs": [
        {
          "output_type": "stream",
          "name": "stdout",
          "text": [
            "Team aravali points =  13\n"
          ]
        }
      ]
    },
    {
      "cell_type": "markdown",
      "source": [
        "**Problem** 2\n",
        "\n",
        "Root of a function f(x) is defined as the value x where f(x)=0\n",
        "\n",
        "Consider a quadratic function f(x)= x^2+3x-4\n",
        "\n",
        "Find the value of the function f(x) at points x=2, x=-1,x=1 "
      ],
      "metadata": {
        "id": "7Ihq_oMbEfBU"
      }
    },
    {
      "cell_type": "markdown",
      "source": [
        " **solution**"
      ],
      "metadata": {
        "id": "MyaablTIEqel"
      }
    },
    {
      "cell_type": "code",
      "source": [
        "#function for evaluate the quadratic equation\n",
        "def f(x):\n",
        "  return x**2+3*x-4 "
      ],
      "metadata": {
        "id": "qwr_sQkayoRv"
      },
      "execution_count": null,
      "outputs": []
    },
    {
      "cell_type": "code",
      "source": [
        "#Calculate the value of the function f(x) at x = 2 \n",
        "x=2\n",
        "func_evaluated_at_2= f(x)\n",
        "#value of f(2)\n",
        "print(func_evaluated_at_2) "
      ],
      "metadata": {
        "id": "VCiJ85uaHPY9"
      },
      "execution_count": null,
      "outputs": []
    },
    {
      "cell_type": "code",
      "source": [
        "#Calculate the value of the function f(x) at x = -1\n",
        "x=-1\n",
        "func_evaluated_at_minus1 = x**2+3*x-4\n",
        "#value of f(-1)\n",
        "print(func_evaluated_at_minus1)"
      ],
      "metadata": {
        "id": "fUtHmx1nIIAy"
      },
      "execution_count": null,
      "outputs": []
    },
    {
      "cell_type": "code",
      "source": [
        "# Calculate the value of the function f(x) at x = 1\n",
        "x=1\n",
        "func_evaluated_at_1 =(x**2)+3*x-4\n",
        "print(func_evaluated_at_1) "
      ],
      "metadata": {
        "id": "-hV31uWlKTjv"
      },
      "execution_count": null,
      "outputs": []
    },
    {
      "cell_type": "code",
      "source": [
        "# Check whether 2 is a root of f(x)\n",
        "func_evaluated_at_2 == 0"
      ],
      "metadata": {
        "id": "JeHW_uExb0gj"
      },
      "execution_count": null,
      "outputs": []
    },
    {
      "cell_type": "code",
      "source": [
        "# Check whether -1 is a root of f(x)\n",
        "func_evaluated_at_minus1==0"
      ],
      "metadata": {
        "id": "0PEcbpbyb5_-"
      },
      "execution_count": null,
      "outputs": []
    },
    {
      "cell_type": "code",
      "source": [
        "# Check whether 1 is a root of f(x)\n",
        "func_evaluated_at_1==0"
      ],
      "metadata": {
        "id": "c2_4m7DycBEY"
      },
      "execution_count": null,
      "outputs": []
    },
    {
      "cell_type": "markdown",
      "source": [
        "**Problem** **3**\n",
        "\n",
        "A bag contains 45 apples, 65 oranges and 30 bananas. Find the percentage of each type of food items in the bag"
      ],
      "metadata": {
        "id": "vGJSem4_MBFc"
      }
    },
    {
      "cell_type": "markdown",
      "source": [
        "**solution**"
      ],
      "metadata": {
        "id": "PDaqjeszMKR9"
      }
    },
    {
      "cell_type": "code",
      "source": [
        "apple = 45\n",
        "oranges = 65\n",
        "bananas = 30\n",
        "total = 140\n",
        "\n",
        "#calculate the percentage of apple\n",
        "percentage_apple = apple/total * 100\n",
        "print(percentage_apple)\n",
        "\n",
        "#calculate the percentage of oranges\n",
        "percentage_oranges = oranges/total * 100\n",
        "print(percentage_oranges)\n",
        "\n",
        "#calculate the percentage of bananas\n",
        "percentage_bananas = bananas/total * 100\n",
        "print(percentage_bananas)"
      ],
      "metadata": {
        "colab": {
          "base_uri": "https://localhost:8080/"
        },
        "id": "HqL_Ox4zMJaB",
        "outputId": "1e2a3bbe-d572-41c6-c16d-9e2de4f1208e"
      },
      "execution_count": null,
      "outputs": [
        {
          "output_type": "stream",
          "name": "stdout",
          "text": [
            "32.142857142857146\n",
            "46.42857142857143\n",
            "21.428571428571427\n"
          ]
        }
      ]
    },
    {
      "cell_type": "markdown",
      "source": [
        "**Problem** **4**\n",
        "\n",
        "You were playing a fun guessing game during your school break. There were a total of 100 participants excluding you. Out of these 100 people, 30 were Maths Majors, 45 were Economics Majors and 25 were Physics Majors.\n",
        "\n",
        "The game was divided into three rounds.\n",
        "\n",
        "In the first round, you had to guess the number of Maths Majors and you correctly guessed 20 of them.\n",
        "\n",
        "In the second round, you had to guess the number of Economics Majors and you correctly guessed 30 of them.\n",
        "\n",
        "In the final third round, you had to guess the number of Physics Majors and you correctly guessed 20 of them.\n",
        "\n",
        "**solution**"
      ],
      "metadata": {
        "id": "OuKlcCvm6dYf"
      }
    },
    {
      "cell_type": "code",
      "source": [
        "#number of Maths majors,economic majors and physics majors\n",
        "math_majors = 30\n",
        "economic_majors = 45\n",
        "physics_majors= 25\n",
        "\n",
        "#number of your correct guesses of Maths majors,economic majors and physics majors \n",
        "correct_math=20\n",
        "correct_economics=30\n",
        "correct_physics =20\n",
        "\n",
        "#The accuracy of math major\n",
        "accuracy_math = correct_math/math_majors *100\n",
        "\n",
        "#The accuracy of economic major\n",
        "accuracy_economics = correct_economics/economic_majors *100\n",
        "\n",
        "#The accuracy of physics majors\n",
        "accuracy_physics = correct_physics/physics_majors *100\n",
        "\n",
        "print(accuracy_math)\n",
        "print(accuracy_economics)\n",
        "print(accuracy_physics)"
      ],
      "metadata": {
        "id": "g15p1I8nODom"
      },
      "execution_count": null,
      "outputs": []
    },
    {
      "cell_type": "code",
      "source": [
        "#The overall accuracy of game\n",
        "overall_accuracy=((correct_math+correct_economics+correct_physics)/(math_majors+economic_majors+physics_majors))*100\n",
        "print(overall_accuracy)"
      ],
      "metadata": {
        "id": "Eo0JUNe09rJZ"
      },
      "execution_count": null,
      "outputs": []
    }
  ]
}