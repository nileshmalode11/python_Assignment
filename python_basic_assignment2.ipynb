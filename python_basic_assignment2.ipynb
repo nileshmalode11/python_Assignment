{
  "nbformat": 4,
  "nbformat_minor": 0,
  "metadata": {
    "colab": {
      "provenance": [],
      "authorship_tag": "ABX9TyMPlXI99afeNa/iRex3Z4jr",
      "include_colab_link": true
    },
    "kernelspec": {
      "name": "python3",
      "display_name": "Python 3"
    },
    "language_info": {
      "name": "python"
    }
  },
  "cells": [
    {
      "cell_type": "markdown",
      "metadata": {
        "id": "view-in-github",
        "colab_type": "text"
      },
      "source": [
        "<a href=\"https://colab.research.google.com/github/nileshmalode11/python_Assignment/blob/main/python_basic_assignment2.ipynb\" target=\"_parent\"><img src=\"https://colab.research.google.com/assets/colab-badge.svg\" alt=\"Open In Colab\"/></a>"
      ]
    },
    {
      "cell_type": "markdown",
      "source": [
        "**Problem** **1**\n",
        "\n",
        "You are given a sentence which reads \"Wikipedia is a free online encyclopedia, created and edited by volunteers around the world and hosted by the Wikimedia Foundation.\"\n",
        "\n",
        "Find the number of words in the given sentence"
      ],
      "metadata": {
        "id": "viwO2KB_cyZ8"
      }
    },
    {
      "cell_type": "code",
      "execution_count": null,
      "metadata": {
        "colab": {
          "base_uri": "https://localhost:8080/"
        },
        "id": "AcirFoG2iuKv",
        "outputId": "e30192dd-b99a-4f80-93ab-a10df8867bbe"
      },
      "outputs": [
        {
          "output_type": "stream",
          "name": "stdout",
          "text": [
            "total words in string: 20\n"
          ]
        }
      ],
      "source": [
        "def count_words(string):\n",
        "    # Initializing the count from 1 because we there is no space at the last \n",
        "    count=1\n",
        "    for i in string:\n",
        "    # If we encounter space, increment the count with 1.\n",
        "        if i==\" \":\n",
        "            count+=1\n",
        "      \n",
        "    return count\n",
        " \n",
        "string= \"Wikipedia is a free online encyclopedia, created and edited by volunteers around the world and hosted by the Wikimedia Foundation.\"\n",
        "print(\"total words in string:\",count_words(string))"
      ]
    },
    {
      "cell_type": "markdown",
      "source": [],
      "metadata": {
        "id": "CV8MmXeh9xZM"
      }
    },
    {
      "cell_type": "code",
      "source": [
        "# Store the given sentence in a variable\n",
        "string= \"Wikipedia is a free online encyclopedia, created and edited by volunteers around the world and hosted by the Wikimedia Foundation.\"\n",
        "\n",
        "#total no of counts\n",
        "no_of_words=string.count(\" \")+1\n",
        "print(\"total words in string:\",no_of_words)"
      ],
      "metadata": {
        "colab": {
          "base_uri": "https://localhost:8080/"
        },
        "id": "k_GQv3GXeJCD",
        "outputId": "36002f48-4c43-443a-cc1c-629195882a62"
      },
      "execution_count": null,
      "outputs": [
        {
          "output_type": "stream",
          "name": "stdout",
          "text": [
            "total words in string: 20\n"
          ]
        }
      ]
    },
    {
      "cell_type": "markdown",
      "source": [
        "**Problem** **2**\n",
        "\n",
        "Write a Python code which takes a number and returns a corresponding string of hyphens. For example if the number is 3, it will return '---' , if the number is 5 it will return '-----"
      ],
      "metadata": {
        "id": "UlC9yy6ti56V"
      }
    },
    {
      "cell_type": "markdown",
      "source": [
        "**solution**"
      ],
      "metadata": {
        "id": "kxbRuFljn2fW"
      }
    },
    {
      "cell_type": "code",
      "source": [
        "# Store the user input in a variable\n",
        "inputted_number = int(input())\n",
        "\n",
        "result=inputted_number*\"-\"\n",
        "\n",
        "print(result)"
      ],
      "metadata": {
        "id": "gNiW9ac3i5h4"
      },
      "execution_count": null,
      "outputs": []
    },
    {
      "cell_type": "markdown",
      "source": [
        "**Problem** 3\n",
        "\n",
        "A string can be called a safe bridge if it has no gaps in it i.e, no spaces. You are supposed to take an input from the user and print whether the string is a safe bridge or not"
      ],
      "metadata": {
        "id": "LYmkuq_V20ux"
      }
    },
    {
      "cell_type": "markdown",
      "source": [
        "**solution**"
      ],
      "metadata": {
        "id": "w2bLJu1p6GsF"
      }
    },
    {
      "cell_type": "code",
      "source": [
        "# Store the user input in a variable\n",
        "bridge = input()\n",
        "\n",
        "# Return True if the bridge is safe and False if the bridge is not safe\n",
        "is_safe_bridge =bridge.find(\" \")==-1\n",
        "\n",
        "# Fill in the blanks\n",
        "print(f\"It is {is_safe_bridge} that the bridge is a safe bridge\" )"
      ],
      "metadata": {
        "id": "ZtyNpQDQpigb"
      },
      "execution_count": null,
      "outputs": []
    },
    {
      "cell_type": "markdown",
      "source": [
        "**Problem 4**\n",
        "\n",
        "Count the number of D's in a string inputted by the user. This will be case insensitive."
      ],
      "metadata": {
        "id": "uJtdpNFK6PD6"
      }
    },
    {
      "cell_type": "code",
      "source": [
        "# Store the user input in a variable\n",
        "user_string = 'Debris was scattered all over the yard in the densest region of Denmark'\n",
        "\n",
        "# Store the count of letter D in the inputted string. Note this will be a case insensitive search\n",
        "D_counts = user_string.count(\"D\")\n",
        "\n",
        "# Fill in the blanks\n",
        "print(f\"The total occurrence of D in the user_string is {D_counts}\")"
      ],
      "metadata": {
        "colab": {
          "base_uri": "https://localhost:8080/"
        },
        "id": "ZBEVIKmO6OpJ",
        "outputId": "d8e1d709-b72d-45d7-dffd-ab57e931167f"
      },
      "execution_count": null,
      "outputs": [
        {
          "output_type": "stream",
          "name": "stdout",
          "text": [
            "The total occurrence of D in the user_string is 2\n"
          ]
        }
      ]
    },
    {
      "cell_type": "markdown",
      "source": [
        "**Problem 5**\n",
        "\n",
        "Check whether a given string is a palindrome. A palindrome is a word, number, phrase, or other sequence of characters which reads the same backward as forward, such as madam, racecar"
      ],
      "metadata": {
        "id": "lj90DgCR68xD"
      }
    },
    {
      "cell_type": "markdown",
      "source": [
        "**solution**"
      ],
      "metadata": {
        "id": "CVVMZqlJ8cit"
      }
    },
    {
      "cell_type": "code",
      "source": [
        "# Store the user input in a variable\n",
        "user_string = input()\n",
        "\n",
        "#function\n",
        "def reverse_string(str):\n",
        "  return str[::]==str[::-1]\n",
        " \n",
        "#Print True if a string is a Palindrome else print false\n",
        "print(reverse_string(user_string))"
      ],
      "metadata": {
        "colab": {
          "base_uri": "https://localhost:8080/"
        },
        "id": "_7DzJxoz7Fp-",
        "outputId": "7fca890a-adc8-442f-edf3-f0388c63504b"
      },
      "execution_count": null,
      "outputs": [
        {
          "output_type": "stream",
          "name": "stdout",
          "text": [
            "madam\n",
            "True\n"
          ]
        }
      ]
    }
  ]
}