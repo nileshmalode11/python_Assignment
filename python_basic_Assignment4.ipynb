{
  "nbformat": 4,
  "nbformat_minor": 0,
  "metadata": {
    "colab": {
      "provenance": [],
      "authorship_tag": "ABX9TyPFcCTwoAkfCZwJGoam3e8L",
      "include_colab_link": true
    },
    "kernelspec": {
      "name": "python3",
      "display_name": "Python 3"
    },
    "language_info": {
      "name": "python"
    }
  },
  "cells": [
    {
      "cell_type": "markdown",
      "metadata": {
        "id": "view-in-github",
        "colab_type": "text"
      },
      "source": [
        "<a href=\"https://colab.research.google.com/github/nileshmalode11/python_Assignment/blob/main/python_basic_Assignment4.ipynb\" target=\"_parent\"><img src=\"https://colab.research.google.com/assets/colab-badge.svg\" alt=\"Open In Colab\"/></a>"
      ]
    },
    {
      "cell_type": "markdown",
      "source": [
        "**Problem** **1**\n",
        "\n",
        "Create a dictionary where the key corresponds to the position of the alphabet(consider space as the first alphabet) and the value corresponding to the key will be the alphabet.\n",
        "\n",
        "range() function in Python is pretty useful to get a list of numbers in sequence. You can use help(range) to know more about its details"
      ],
      "metadata": {
        "id": "YlBHGFhptS5R"
      }
    },
    {
      "cell_type": "code",
      "execution_count": 18,
      "metadata": {
        "colab": {
          "base_uri": "https://localhost:8080/"
        },
        "id": "sojdcLLGtQ4a",
        "outputId": "3ae825bb-2eb8-4f01-8564-b3a1ed736fbe"
      },
      "outputs": [
        {
          "output_type": "stream",
          "name": "stdout",
          "text": [
            "[' ', 'a', 'b', 'c', 'd', 'e', 'f', 'g', 'h', 'i', 'j', 'k', 'l', 'm', 'n', 'o', 'p', 'q', 'r', 's', 't', 'u', 'v', 'w', 'x', 'y', 'z']\n"
          ]
        }
      ],
      "source": [
        "# Create your dictionary below with keys as position of the alphabet and the value of the key will be the alphabet itself\n",
        "\n",
        "# Create a list of numbers from 0 to 26 using the range() function\n",
        "list_of_numbers = list(range(27))\n",
        "\n",
        "# Create the list of alphabets. Hint use the split() method\n",
        "alphabets = \" ,a,b,c,d,e,f,g,h,i,j,k,l,m,n,o,p,q,r,s,t,u,v,w,x,y,z\"\n",
        "alphabet_list = alphabets.split(\",\")\n",
        "\n",
        "print(alphabet_list)"
      ]
    },
    {
      "cell_type": "code",
      "source": [
        "# Create a dictionary by zipping together the above two lists\n",
        "alphabet_dict = dict(zip(list_of_numbers,alphabet_list))\n",
        "\n",
        "\n",
        "# Print your dictionary to double check;\n",
        "print(alphabet_dict)"
      ],
      "metadata": {
        "id": "2CNkyQsJvY-k",
        "colab": {
          "base_uri": "https://localhost:8080/"
        },
        "outputId": "87351097-38f4-42df-a589-d7861854966b"
      },
      "execution_count": 19,
      "outputs": [
        {
          "output_type": "stream",
          "name": "stdout",
          "text": [
            "{0: ' ', 1: 'a', 2: 'b', 3: 'c', 4: 'd', 5: 'e', 6: 'f', 7: 'g', 8: 'h', 9: 'i', 10: 'j', 11: 'k', 12: 'l', 13: 'm', 14: 'n', 15: 'o', 16: 'p', 17: 'q', 18: 'r', 19: 's', 20: 't', 21: 'u', 22: 'v', 23: 'w', 24: 'x', 25: 'y', 26: 'z'}\n"
          ]
        }
      ]
    },
    {
      "cell_type": "markdown",
      "source": [
        "**Problem** **2**\n",
        "\n",
        "Scientists receive the following message code from the alien civilization\n",
        "encrypyted_message = (\"ajsuydtbe\", \"\", \"wunjbfusnjrgut\", \"uhbhr\", \"oirun\", \"lpef\", \"\", \"vhejsibr\", \"ydtse\", \"qlvuusrntuos\", \"ijwlbutybhlsoaxh\")\n",
        "\n",
        "\n",
        "You have been asked to decode the above message"
      ],
      "metadata": {
        "id": "4F7VU0wV44wI"
      }
    },
    {
      "cell_type": "code",
      "source": [
        "# Store the message in a variable \n",
        "encrypted_message = (\"ajsuydtbe\", \"\", \"wunjbfusnjrgut\", \"uhbhr\", \"oirun\", \"lpef\", \"\", \"vhejsibr\", \"ydtse\", \"qlvuusrntuos\", \"ijwlbutybhlsoaxh\")"
      ],
      "metadata": {
        "id": "5kKy_st64-cu"
      },
      "execution_count": 9,
      "outputs": []
    },
    {
      "cell_type": "code",
      "source": [
        "# Follow the steps from your solution to problem 1\n",
        "\n",
        "# Create an empty list \n",
        "string_length_list  = []\n",
        "\n",
        "# Append the length of strings of your tuple using a for loop\n",
        "for item in encrypted_message:\n",
        "  string_length_list.append(item)\n",
        "\n",
        "# Print the list of string lengths\n",
        "print(string_length_list)"
      ],
      "metadata": {
        "colab": {
          "base_uri": "https://localhost:8080/"
        },
        "id": "QA1fef7E5R-1",
        "outputId": "8f4ad24e-4138-4d1c-ef49-37f69f72ffd3"
      },
      "execution_count": 13,
      "outputs": [
        {
          "output_type": "stream",
          "name": "stdout",
          "text": [
            "['ajsuydtbe', '', 'wunjbfusnjrgut', 'uhbhr', 'oirun', 'lpef', '', 'vhejsibr', 'ydtse', 'qlvuusrntuos', 'ijwlbutybhlsoaxh']\n"
          ]
        }
      ]
    },
    {
      "cell_type": "code",
      "source": [
        "# Create a string to store the decrypyted message\n",
        "decrypted_message = \"\"\n",
        "# Concatenate the characters using a for loop to get your final decoded message\n",
        "for i in string_length_list:\n",
        "  decrypted_message+=i\n",
        "\n",
        "# Print the message you have decrypted\n",
        "print(decrypted_message)"
      ],
      "metadata": {
        "colab": {
          "base_uri": "https://localhost:8080/"
        },
        "id": "Zw0xtc2XZMao",
        "outputId": "9336240a-05f4-402e-9d4b-f1cdff949b21"
      },
      "execution_count": 14,
      "outputs": [
        {
          "output_type": "stream",
          "name": "stdout",
          "text": [
            "ajsuydtbewunjbfusnjrgutuhbhroirunlpefvhejsibrydtseqlvuusrntuosijwlbutybhlsoaxh\n"
          ]
        }
      ]
    },
    {
      "cell_type": "markdown",
      "source": [
        "**Problem** **3**\n",
        "\n",
        "Aliens receive the reply from the scientists. They decode the message and send an encrypted message again. Due to some aberrations because of an existing very massive star, one of the words of their message gets transformed into something gibberish/unreadable. They sent the following message:\n",
        "\n",
        " I saw a <some gibberish> please help me soon\n",
        " \n",
        "Scientists were baffled by the presence of such an indecipherable word in the message sent by Aliens. Suddenly they receive another signal from them which contains the gibberish word but this time the letters have been jumbled up. Scientists need to sort the letters of this word in alphabetical order within it to get the actual transmitted word\n",
        "The encoded list of the unknown word is:\n",
        "\n",
        "jumbled_word = [\"hugdtck\", \"tsogbklesrawqcbjplu\", \"qkisrubskoaitbt\", \"nslaoetr\", \"oksinjioaendnjsdqwbh\"]"
      ],
      "metadata": {
        "id": "a_rVaKxjasQy"
      }
    },
    {
      "cell_type": "code",
      "source": [
        "# Store the list of jumbled word in a variable \n",
        "jumbled_word = [\"hugdtck\", \"tsogbklesrawqcbjplu\", \"qkisrubskoaitbt\", \"nslaoetr\", \"oksinjioaendnjsdqwbh\"]"
      ],
      "metadata": {
        "id": "HUe7k3Fca0Du"
      },
      "execution_count": null,
      "outputs": []
    },
    {
      "cell_type": "code",
      "source": [
        "\n",
        "# Create an empty list \n",
        "string_length_list = []\n",
        "\n",
        "# Append the length of each string in the list using a for loop\n",
        "for i in jumbled_word:\n",
        "  string_length_list.append(i)\n",
        "\n",
        "# Print the above list\n",
        "print(string_length_list)\n"
      ],
      "metadata": {
        "id": "1zrPFK5Na-0Y"
      },
      "execution_count": null,
      "outputs": []
    },
    {
      "cell_type": "code",
      "source": [
        "# Get the  sorted list\n",
        "sorted_char_list = \n",
        "\n",
        "# Print the sorted list\n",
        "\n",
        "\n",
        "# Get all the characters in one word. Use join() method on a null string and pass the sorted char list as the argument of this method. Use help(join) to know more about it.\n",
        "correct_word = \n",
        "\n",
        "# Print the complete message\n",
        "print(f\"I saw a {correct_word} please help me soon\")"
      ],
      "metadata": {
        "id": "l6chCM1wbCyS"
      },
      "execution_count": null,
      "outputs": []
    },
    {
      "cell_type": "markdown",
      "source": [
        "**Problem 4**\n",
        "\n",
        " A perfect number is a positive integer that is equal to the sum of its proper divisors. The smallest perfect number is 6, which is the sum of 1, 2, and 3. Based on a given user input, you need to print whether the input is a perfect number or not. Check on sample inputs such as 28, 128, 200, 49"
      ],
      "metadata": {
        "id": "pzhkkipvdWoV"
      }
    },
    {
      "cell_type": "code",
      "source": [
        "# Take the user input\n",
        "\n",
        "perfect_number_candidate = int(input())\n",
        "\n",
        "#while loop for perfect number\n",
        "sum=0\n",
        "i=1\n",
        "\n",
        "while (i<perfect_number_candidate):\n",
        "  if (perfect_number_candidate%i==0):\n",
        "    sum+=i\n",
        "  i+=1\n",
        "\n",
        "#display result  \n",
        "if (sum==perfect_number_candidate):\n",
        "  print(perfect_number_candidate,' is perfect number')\n",
        "else:\n",
        "  print(perfect_number_candidate,' is not a perfect number')       "
      ],
      "metadata": {
        "colab": {
          "base_uri": "https://localhost:8080/"
        },
        "id": "2Ssj-5LTeIP8",
        "outputId": "82b2b9e8-1fa0-4392-ee03-7a05c9e8dbda"
      },
      "execution_count": 9,
      "outputs": [
        {
          "output_type": "stream",
          "name": "stdout",
          "text": [
            "25  is not a perfect number\n"
          ]
        }
      ]
    },
    {
      "cell_type": "code",
      "source": [
        "\n",
        "def perfect_number(n):\n",
        "    sum = 0\n",
        "    for x in range(1, n):\n",
        "        if n % x == 0:\n",
        "            sum += x\n",
        "    return sum == n\n",
        "print(perfect_number(6))\n",
        "print(perfect_number(28))\n",
        "print(perfect_number(128))\n",
        "print(perfect_number(200))\n",
        "print(perfect_number(496))"
      ],
      "metadata": {
        "id": "nLmTUFOWdbLc"
      },
      "execution_count": null,
      "outputs": []
    },
    {
      "cell_type": "markdown",
      "source": [
        "**Problem** **5**\n",
        "\n",
        "Consider a famous movie line by Liam Neeson. You need to print only those words from this famous line whose length is greater than 3. Also the output words should be unique.You need to take care of the special characters such as ,. Characters such as apostrophe will be considered to be part of the word"
      ],
      "metadata": {
        "id": "ntVsyZ3ggeyN"
      }
    },
    {
      "cell_type": "code",
      "source": [
        "# Liam Neeson's quote\n",
        "movie_quote = \"If you let my daughter go now, that'll be the end of it. I will not look for you, I will not pursue you. But if you don't, I will look for you, I will find you, and I will kill you.\"\n",
        "\n",
        "# Remove the characters which are not to be considered. In this case they include characters such as , .\n",
        "movie_quote=\"If you let my daughter go now, that'll be the end of it. I will not look for you, I will not pursue you. But if you don't, I will look for you, I will find you, and I will kill you.\"\n",
        "\n",
        "#Convert your sentence to a list of words\n",
        "list_of_words = movie_quote.split()\n",
        "print(list_of_words)\n",
        "a=[]\n",
        "for i in list_of_words:\n",
        "  if i.endswith(','):\n",
        "    continue\n",
        "  else:\n",
        "    a.append(i)\n",
        "\n",
        "\n",
        "x=[]\n",
        "for i in list_of_words:\n",
        "  if i.endswith(','):\n",
        "    x.append(i)\n",
        "\n",
        "\n",
        "b=[]\n",
        "for i in x:\n",
        "  i=i[:-1]\n",
        "  b.append(i)\n",
        "\n",
        "\n",
        "a.extend(b)\n",
        "\n",
        "\n",
        "# Using a for loop, print the words whose length is greater than 3\n",
        "words_we_want = []\n",
        "for i in a:\n",
        "  if len(i)>3:\n",
        "    words_we_want.append(i)\n",
        "\n",
        "print(words_we_want)\n",
        "\n",
        "\n",
        "# Take only unique words\n",
        "unique_words = set(words_we_want)\n",
        "print(f\"The unique word list is {unique_words} \")\n"
      ],
      "metadata": {
        "colab": {
          "base_uri": "https://localhost:8080/"
        },
        "id": "UIUfkQKTgi6D",
        "outputId": "6b440c66-d162-4de4-dcca-30e3f570eaba"
      },
      "execution_count": 7,
      "outputs": [
        {
          "output_type": "stream",
          "name": "stdout",
          "text": [
            "['If', 'you', 'let', 'my', 'daughter', 'go', 'now,', \"that'll\", 'be', 'the', 'end', 'of', 'it.', 'I', 'will', 'not', 'look', 'for', 'you,', 'I', 'will', 'not', 'pursue', 'you.', 'But', 'if', 'you', \"don't,\", 'I', 'will', 'look', 'for', 'you,', 'I', 'will', 'find', 'you,', 'and', 'I', 'will', 'kill', 'you.']\n",
            "['daughter', \"that'll\", 'will', 'look', 'will', 'pursue', 'you.', 'will', 'look', 'will', 'find', 'will', 'kill', 'you.', \"don't\"]\n",
            "The unique word list is {'kill', 'find', \"don't\", 'look', 'pursue', 'you.', \"that'll\", 'daughter', 'will'} \n"
          ]
        }
      ]
    }
  ]
}