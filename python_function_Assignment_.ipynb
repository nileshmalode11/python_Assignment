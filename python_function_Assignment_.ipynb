{
  "nbformat": 4,
  "nbformat_minor": 0,
  "metadata": {
    "colab": {
      "provenance": [],
      "authorship_tag": "ABX9TyMlLf5P/Dj2WpwaeDaApZ/5",
      "include_colab_link": true
    },
    "kernelspec": {
      "name": "python3",
      "display_name": "Python 3"
    },
    "language_info": {
      "name": "python"
    }
  },
  "cells": [
    {
      "cell_type": "markdown",
      "metadata": {
        "id": "view-in-github",
        "colab_type": "text"
      },
      "source": [
        "<a href=\"https://colab.research.google.com/github/nileshmalode11/python_Assignment/blob/main/python_function_Assignment_.ipynb\" target=\"_parent\"><img src=\"https://colab.research.google.com/assets/colab-badge.svg\" alt=\"Open In Colab\"/></a>"
      ]
    },
    {
      "cell_type": "markdown",
      "source": [
        "**Problem** **1**\n",
        "\n",
        "Write a function which takes the excel column name as an input and returns the corresponding column number. A few examples are :\n",
        "\n",
        "column name = 'J' , column number = 10\n",
        "\n",
        "column name = 'AP' , column number = 42\n",
        "\n",
        "column name = 'AAA', column number = 703\n",
        "\n",
        "**Solution**"
      ],
      "metadata": {
        "id": "MRNhWlpmgH1I"
      }
    },
    {
      "cell_type": "code",
      "execution_count": null,
      "metadata": {
        "id": "V0NFNP7tgG9y"
      },
      "outputs": [],
      "source": [
        "def get_excel_column_number(s):\n",
        "\n",
        "    result = 0\n",
        "\n",
        "    for B in range(len(s)): \n",
        "\n",
        "        result *= 26\n",
        "\n",
        "        result += ord(s[B]) - ord('A') + 1;\n",
        "    return resultef "
      ]
    },
    {
      "cell_type": "code",
      "source": [
        "# Check\n",
        "get_excel_column_number('BD')"
      ],
      "metadata": {
        "colab": {
          "base_uri": "https://localhost:8080/"
        },
        "id": "CQZkG8jtkE1o",
        "outputId": "04b0d6bb-54e6-4192-f1e2-91fb5b87917e"
      },
      "execution_count": null,
      "outputs": [
        {
          "output_type": "execute_result",
          "data": {
            "text/plain": [
              "56"
            ]
          },
          "metadata": {},
          "execution_count": 7
        }
      ]
    },
    {
      "cell_type": "code",
      "source": [
        "# Check\n",
        "get_excel_column_number('ALQ')"
      ],
      "metadata": {
        "colab": {
          "base_uri": "https://localhost:8080/"
        },
        "id": "XgL7JOrAkJyS",
        "outputId": "fd239653-6c4a-49d4-a610-880f8eb1eaf2"
      },
      "execution_count": null,
      "outputs": [
        {
          "output_type": "execute_result",
          "data": {
            "text/plain": [
              "1005"
            ]
          },
          "metadata": {},
          "execution_count": 8
        }
      ]
    },
    {
      "cell_type": "markdown",
      "source": [
        "**Problem** **2**\n",
        "\n",
        "We evaluate a standard machine learning classification model using various evaluation metrics. A classification model is a model which classifies a given observation or an event to a fixed set of categories. Suppose I train a machine learning model to classify images of cats and dogs. For each image, the machine classifies the image with either a 'Cat' or a 'Dog'. So in essence for each input image, there is a corresponding output by the model. This output can either be a 'Cat' or a 'Dog'.\n",
        "\n",
        "To evaluate such a machine learning model which is trained to classify a given observation with at most two labels, a lot of candidate evaluation metrics are available. Accuracy is one of such evaluation metrics.\n",
        "\n",
        "Accuracy defintion : Suppose you are given 20 input images of cats and dogs. You already know from these images that there are 11 cats and 9 dogs. You train a machine learning model to classify these images into cats and dogs. The machine predicts 9 cats correctly and 8 dogs correctly. The accuracy of the model is then defined as (correctly predicted cats and dogs)/(total cats and dogs). In this case it is (9+8)/(11+9) = 17/20 = 0.85 or 85%. It is a good practice to report the accuracy in percentages\n",
        "\n",
        "You are given two lists each of length 20 : one list contains the actual labels for the images of cats and dogs. The other list contains the predicted labels (by the machine) for the images of cats and dogs.\n",
        "How to read the two lists ? For example for the first image, actual label is Cat and the predicted label is Cat. For the last image, actual label is Dog and the predicted label is Cat. The same index in the two lists corresponds to the same image\n",
        "\n",
        "**Solution**"
      ],
      "metadata": {
        "id": "Wkv8QODAqL23"
      }
    },
    {
      "cell_type": "code",
      "source": [
        "actual_labels = ['Cat','Dog','Cat','Cat','Dog','Cat','Dog','Cat','Cat','Cat','Dog','Dog','Cat','Cat','Cat','Dog','Dog','Dog','Cat','Dog']\n"
      ],
      "metadata": {
        "id": "ByQ92Tv1qmXH"
      },
      "execution_count": 1,
      "outputs": []
    },
    {
      "cell_type": "code",
      "source": [
        "predicted_labels = ['Cat','Dog','Cat','Cat','Dog','Cat','Dog','Cat','Dog','Dog','Dog','Dog','Cat','Cat','Cat','Dog','Dog','Dog','Cat','Cat']"
      ],
      "metadata": {
        "id": "MLenXziqqxOH"
      },
      "execution_count": 2,
      "outputs": []
    },
    {
      "cell_type": "markdown",
      "source": [
        "Write a function to calculate the accuracy. This functions takes two lists as inputs and returns the accuracy score in percentage"
      ],
      "metadata": {
        "id": "QkxZbvuEq8ep"
      }
    },
    {
      "cell_type": "code",
      "source": [
        "def calculate_accuracy(actual, predicted):\n",
        "  '''\n",
        "  This functions calculates the accuracy based on two input lists\n",
        "  '''\n",
        "  # Write your code here\n",
        "  zipped_labels = zip(actual,predicted)\n",
        "  #use the list comrephension\n",
        "  correct = ['correct' for act,pred in zipped_labels if act==pred]\n",
        "  correct_prediction = len(correct)\n",
        "  #total images\n",
        "  total_images = len(actual)\n",
        "  accuracy = round(correct_prediction*100/total_images,2)\n",
        "  return accuracy\n"
      ],
      "metadata": {
        "id": "CttFjKXTq9vc"
      },
      "execution_count": 3,
      "outputs": []
    },
    {
      "cell_type": "code",
      "source": [
        "# Print the accuracy score for the given lists\n",
        "accuracy1 = calculate_accuracy(actual_labels,predicted_labels)\n",
        "print(accuracy1)"
      ],
      "metadata": {
        "colab": {
          "base_uri": "https://localhost:8080/"
        },
        "id": "4PW8i0wbxXbx",
        "outputId": "4881c009-acfa-45ad-bd5a-574edc9a8ca2"
      },
      "execution_count": 4,
      "outputs": [
        {
          "output_type": "stream",
          "name": "stdout",
          "text": [
            "85.0\n"
          ]
        }
      ]
    },
    {
      "cell_type": "markdown",
      "source": [
        "**Problem** **3**\n",
        "\n",
        "Write a Python function which returns the precision and recall for a given input label. Use the same two lists\n",
        "\n",
        "**Solution**\n"
      ],
      "metadata": {
        "id": "kKbfHJfNxc0d"
      }
    },
    {
      "cell_type": "code",
      "source": [
        "def precision_recall(label = 'Dog'):\n",
        "  '''\n",
        "  This functions returns a tuple of precision and recall for a given input label\n",
        "  '''\n",
        "  # Your code here\n",
        "  zipped_labels = zip(actual_labels,predicted_labels)\n",
        "  # for Precision\n",
        "  correct_pred_labels = ['correct' for label1,label2 in zipped_labels if label1==label2 and label1==label]\n",
        "  number_of_correct_pred = len(correct_pred_labels)\n",
        "  number_of_pred_labels = predicted_labels.count(label)\n",
        "  precision = round(number_of_correct_pred*100/number_of_pred_labels,2)\n",
        "\n",
        "  # for Recall\n",
        "  actual_nuber_of_label = actual_labels.count(label)\n",
        "  recall = round(number_of_correct_pred*100/actual_nuber_of_label,2)\n",
        "  # return precision and recall\n",
        "  return precision,recall\n",
        "\n",
        "\n",
        "dog = precision_recall('Dog')\n",
        "print(dog)"
      ],
      "metadata": {
        "colab": {
          "base_uri": "https://localhost:8080/"
        },
        "id": "p8r_Ix76xg3v",
        "outputId": "6f468149-abb7-4f5e-dae8-750d863d2c62"
      },
      "execution_count": 5,
      "outputs": [
        {
          "output_type": "stream",
          "name": "stdout",
          "text": [
            "(80.0, 88.89)\n"
          ]
        }
      ]
    },
    {
      "cell_type": "markdown",
      "source": [
        "**Problem** **4**\n",
        "\n",
        "Write a Python function which takes a sentence and a length value as inputs and returns the counts of those words from the sentence whose length is equal to the provided input length value. Suppose if the input for the length value is 5, it will return the count of all those words which are of length 5\n",
        "\n",
        "**Solution**"
      ],
      "metadata": {
        "id": "LZF7pHxkxq2L"
      }
    },
    {
      "cell_type": "code",
      "source": [
        "marvel_quote = \"The world has changed and none of us can go back. All we can do is our best, and sometimes the best that we can do is to start over.\"\n",
        "# Your function below. Make sure to remove the special characters such as full stop and comma.\n",
        "def fixed_length_word_counts(sentence, length=3):\n",
        "  '''\n",
        "  This function returns the count of the words with the given input length\n",
        "  '''\n",
        "  # Your code below\n",
        "  sentence = sentence.replace(',','')\n",
        "  sentence = sentence.replace('.','')\n",
        "  sentence_list = sentence.split(' ')\n",
        "  # main code \n",
        "  words_with_given_input = [word for word in sentence_list if len(word)==length]\n",
        "  count_of_words = len(words_with_given_input)\n",
        "  return count_of_words"
      ],
      "metadata": {
        "id": "36MHvb52xyxW"
      },
      "execution_count": 6,
      "outputs": []
    },
    {
      "cell_type": "code",
      "source": [
        "\n",
        "# Check on the sample sentence\n",
        "fixed_length_word_counts(marvel_quote, length=3)"
      ],
      "metadata": {
        "colab": {
          "base_uri": "https://localhost:8080/"
        },
        "id": "NwgeFGjXx8Ih",
        "outputId": "41a8546a-87df-4afd-9476-9239964cb5c9"
      },
      "execution_count": 7,
      "outputs": [
        {
          "output_type": "execute_result",
          "data": {
            "text/plain": [
              "10"
            ]
          },
          "metadata": {},
          "execution_count": 7
        }
      ]
    }
  ]
}