{
  "nbformat": 4,
  "nbformat_minor": 0,
  "metadata": {
    "colab": {
      "provenance": [],
      "authorship_tag": "ABX9TyOcKNHnsD5Uc42UFyxfScj6",
      "include_colab_link": true
    },
    "kernelspec": {
      "name": "python3",
      "display_name": "Python 3"
    },
    "language_info": {
      "name": "python"
    }
  },
  "cells": [
    {
      "cell_type": "markdown",
      "metadata": {
        "id": "view-in-github",
        "colab_type": "text"
      },
      "source": [
        "<a href=\"https://colab.research.google.com/github/nileshmalode11/python_Assignment/blob/main/python_basic_Assignment_7.ipynb\" target=\"_parent\"><img src=\"https://colab.research.google.com/assets/colab-badge.svg\" alt=\"Open In Colab\"/></a>"
      ]
    },
    {
      "cell_type": "markdown",
      "source": [
        "**Problem** **1**\n",
        "\n",
        "As an analyst, you had to present the quarterly performance results of your client. The data which you were provided was on daily basis. To complete this task, you needed to extract the quarter from a given date. \n",
        "\n",
        "For example:\n",
        "\n",
        "if the date lies between 1st Jan, 2020 - 31st March, 2020, you need to extract the corresponding quarter as '2020-Q1'\n",
        "\n",
        "if the date lies between 1st April, 2020 - 30th June, 2020, the extracted quarter will be '2020-Q2'\n",
        "\n",
        "if the date lies between 1st July, 2020 - 30th September, 2020, the extracted quarter will be '2020-Q3'\n",
        "\n",
        "if the date lies between 1st October, 2020 - 31st Decemeber, 2020 then the extracted quarter will be '2020-Q4'\n",
        "\n",
        "**Solution**"
      ],
      "metadata": {
        "id": "cpdFPKwmjvMC"
      }
    },
    {
      "cell_type": "code",
      "execution_count": null,
      "metadata": {
        "id": "J9PkLjCx_xis"
      },
      "outputs": [],
      "source": []
    },
    {
      "cell_type": "code",
      "source": [
        "# Take a proper date input from the user in the format YYYY-MM-DD. Consider this date as a string\n",
        "user_date =str(input())\n",
        "\n",
        "# Write your code using if else statements to extract the quarter\n",
        "date_year = \"2020\"\n",
        "date_month = \"7\"\n",
        "\n",
        "if (date_month >= \"01\") & (date_month <=\"03\"):\n",
        "      print(\"quarter = \", date_year + '-Q1')\n",
        "elif (date_month >= \"04\") & (date_month <=\"06\"):\n",
        "      print(\"quarter = \", date_year + '-Q2')\n",
        "elif (date_month >= \"07\") & (date_month <=\"09\"):\n",
        "      print(\"quarter = \", date_year + '-Q3')\n",
        "else:\n",
        "      print(\"quarter = \", date_year + '-Q4')\n",
        "\n",
        "# Store the quarter value in a string variable named quarter"
      ],
      "metadata": {
        "id": "leoGphPLnTJU",
        "colab": {
          "base_uri": "https://localhost:8080/"
        },
        "outputId": "cc3458df-1024-444d-b5e2-4eced1e3d9df"
      },
      "execution_count": null,
      "outputs": [
        {
          "output_type": "stream",
          "name": "stdout",
          "text": [
            "22-11-20\n",
            "quarter =  2020-Q4\n"
          ]
        }
      ]
    },
    {
      "cell_type": "markdown",
      "source": [
        "\n",
        "**Problem** **2**\n",
        "\n",
        "You went out in your local neighbourhood to collect the data of people residing in the locale. You surveyed 5 people and collected some data and stored that in a dictionary. You recorded their names, their age, their sex, their heights(in cms) and their weights(in kgs)\n",
        "\n",
        "**Solution**"
      ],
      "metadata": {
        "id": "2pUVjw3Q01qj"
      }
    },
    {
      "cell_type": "code",
      "source": [
        "# Surveyed data \n",
        "\n",
        "locality_data = {'Name' : ['Abhinav','Sohail','Dheeraj','Rashmi','Vaishali'],\n",
        "                  'Age' : [42,29,35,28,32],\n",
        "                  'Sex' : ['Male', 'Male','Male','Female','Female'] , \n",
        "                  'Height' : [172,175,170,168,170],\n",
        "                  'Weight' : [70,82,60,55,64]\n",
        "                 }"
      ],
      "metadata": {
        "id": "aKChIBJ-08vv"
      },
      "execution_count": 1,
      "outputs": []
    },
    {
      "cell_type": "markdown",
      "source": [
        "\n",
        "Find the mean and median heights and weights of the people in your locality"
      ],
      "metadata": {
        "id": "v1m4Ifhe1Nw5"
      }
    },
    {
      "cell_type": "code",
      "source": [
        "# Calculate the mean height and print it\n",
        "heights=locality_data.get('Height')\n",
        "mean_height = sum(heights) / len(heights)\n",
        "print(\"The mean height \",+mean_height)\n",
        "\n",
        "# Calculate the median height and print it\n",
        "import statistics\n",
        "median_heights = statistics.median(heights)\n",
        "\n",
        "print(\"The median height \",+median_heights,'\\n')\n",
        "\n",
        "# Calculate the mean weight and print it\n",
        "weight=locality_data.get('Weight')\n",
        "mean_weight = sum(weight) / len(weight)\n",
        "print(\"The mean weight \",+ mean_weight)\n",
        "\n",
        "\n",
        "# Calculate the median weight and print it\n",
        "median_weight = statistics.median(weight)\n",
        "\n",
        "print('The median weight ',+median_weight)"
      ],
      "metadata": {
        "colab": {
          "base_uri": "https://localhost:8080/"
        },
        "id": "audfDyrN1O9a",
        "outputId": "23eb054d-d688-4851-ed3c-0a25a05592c0"
      },
      "execution_count": null,
      "outputs": [
        {
          "output_type": "stream",
          "name": "stdout",
          "text": [
            "The mean height  171.0\n",
            "The median height  170 \n",
            "\n",
            "The mean weight  66.2\n",
            "The median weight  64\n"
          ]
        }
      ]
    },
    {
      "cell_type": "markdown",
      "source": [
        "Write a Python code to print the first three elements from the list of age values corresponding to the key 'Age'"
      ],
      "metadata": {
        "id": "DuBqQEFgAJc2"
      }
    },
    {
      "cell_type": "code",
      "source": [
        "# Python code to print the first three elements for the key 'Age'\n",
        "age=locality_data.get('Age')\n",
        "\n",
        "ages = age[0:3]\n",
        "print(ages)"
      ],
      "metadata": {
        "id": "-cL1_9qQADeF",
        "colab": {
          "base_uri": "https://localhost:8080/"
        },
        "outputId": "f2e2fa35-0b0e-4737-e51e-3c3d3ef668b1"
      },
      "execution_count": 4,
      "outputs": [
        {
          "output_type": "stream",
          "name": "stdout",
          "text": [
            "[42, 29, 35]\n"
          ]
        }
      ]
    },
    {
      "cell_type": "markdown",
      "source": [
        "**Problem** **3**\n",
        "\n",
        "A student will not be allowed to sit in exam if his/her attendence is less than 75%.\n",
        "\n",
        "Take following input from user\n",
        "\n",
        "Number of classes held\n",
        "\n",
        "Number of classes attended."
      ],
      "metadata": {
        "id": "76tGrZ_0fktQ"
      }
    },
    {
      "cell_type": "code",
      "source": [
        "# Enter your input\n",
        "\n",
        "print(\"Number of classes held\")\n",
        "classes_held = int(input())\n",
        "\n",
        "print(\"Number of classes attended\")\n",
        "classes_attended = int(input())"
      ],
      "metadata": {
        "colab": {
          "base_uri": "https://localhost:8080/"
        },
        "id": "Gyvj9mCLfqMu",
        "outputId": "22519822-4573-4c65-e1e5-bba87b211ec7"
      },
      "execution_count": 5,
      "outputs": [
        {
          "name": "stdout",
          "output_type": "stream",
          "text": [
            "Number of classes held\n",
            "75\n",
            "Number of classes attended\n",
            "61\n"
          ]
        }
      ]
    },
    {
      "cell_type": "code",
      "source": [
        "# Calculate the attendance percentage\n",
        "attendance = classes_attended*100/classes_held\n",
        "\n",
        "print(f'The attendance is {attendance}')"
      ],
      "metadata": {
        "colab": {
          "base_uri": "https://localhost:8080/"
        },
        "id": "cbl0L1ovfybj",
        "outputId": "40a95850-e387-4990-b3aa-d6bb886ff15d"
      },
      "execution_count": 6,
      "outputs": [
        {
          "output_type": "stream",
          "name": "stdout",
          "text": [
            "The attendance is 81.33333333333333\n"
          ]
        }
      ]
    },
    {
      "cell_type": "markdown",
      "source": [
        "And print the following statements based on the condition above\n",
        "\n",
        "percentage of class attended\n",
        "\n",
        "Is student is allowed to sit in exam or not"
      ],
      "metadata": {
        "id": "Eg3u0lk2gJwj"
      }
    },
    {
      "cell_type": "code",
      "source": [
        "#student is allowed to sit exam or not\n",
        "if attendance>=(classes_attended*100/classes_held):\n",
        "  print(\"Allowed to sit in exam\")\n",
        "else:\n",
        "  print(\"Not Allowed to sit in exam\")  "
      ],
      "metadata": {
        "id": "s24PmarWgI5y"
      },
      "execution_count": null,
      "outputs": []
    },
    {
      "cell_type": "markdown",
      "source": [
        "**Problem** **4**\n",
        "\n",
        "A school has following rules for grading system:\n",
        "Below 25 - F\n",
        "\n",
        "25 to 45 - E\n",
        "\n",
        "45 to 50 - D\n",
        "\n",
        "50 to 60 - C\n",
        "\n",
        "60 to 80 - B\n",
        "\n",
        "Above 80 - A\n",
        "\n",
        "Keep the left number inclusive and the right number exclusive, something like [25,45) for grade E where the set is closed at 25 and open at 45.\n",
        "\n",
        "Write a Python code which takes marks as inputs from the user and print the corresponding grade."
      ],
      "metadata": {
        "id": "XzA4ba88hgTa"
      }
    },
    {
      "cell_type": "code",
      "source": [
        "# Your input here \n",
        "print(\"Enter your marks\")\n",
        "marks = int(input())"
      ],
      "metadata": {
        "colab": {
          "base_uri": "https://localhost:8080/"
        },
        "id": "14W8iROGhsTK",
        "outputId": "68e3b989-7578-46d3-ac6e-81d1b2dba4e5"
      },
      "execution_count": 14,
      "outputs": [
        {
          "name": "stdout",
          "output_type": "stream",
          "text": [
            "Enter your marks\n",
            "12\n"
          ]
        }
      ]
    },
    {
      "cell_type": "code",
      "source": [
        "if marks > 25 and marks <=45:\n",
        "  print(\"the grade is E\")\n",
        "elif marks > 45 and marks <=50:\n",
        "  print(\"the grade is D\")\n",
        "elif marks > 50 and marks <=60:\n",
        "  print(\"the grade is C\")   \n",
        "elif marks > 60 and marks <=80:\n",
        "  print(\"the grade is B\")\n",
        "elif marks > 80 and marks <=100:\n",
        "  print(\"the grade is A\")    \n",
        "else:\n",
        "  print(\"please enter correct marks\")  "
      ],
      "metadata": {
        "id": "Syt2l2HViBJS"
      },
      "execution_count": null,
      "outputs": []
    }
  ]
}